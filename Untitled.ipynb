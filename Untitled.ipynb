{
 "cells": [
  {
   "cell_type": "code",
   "execution_count": 1,
   "metadata": {},
   "outputs": [],
   "source": [
    "import numpy as np\n",
    "import matplotlib.pyplot as plt\n",
    "import tensorflow\n",
    "from tensorflow.keras.preprocessing.image import ImageDataGenerator\n",
    "from tensorflow.keras.layers import Dense,Dropout,Flatten,Conv2D,Activation,MaxPooling2D\n",
    "from tensorflow.keras.models import Model,Sequential"
   ]
  },
  {
   "cell_type": "code",
   "execution_count": 12,
   "metadata": {},
   "outputs": [
    {
     "name": "stdout",
     "output_type": "stream",
     "text": [
      "Found 21998 images belonging to 2 classes.\n",
      "Found 3002 images belonging to 2 classes.\n",
      "Found 0 images belonging to 0 classes.\n"
     ]
    }
   ],
   "source": [
    "datagen_train=ImageDataGenerator(rescale=1./255,\n",
    "                                rotation_range=40,\n",
    "                                width_shift_range=0.2,\n",
    "                                height_shift_range=0.2,\n",
    "                                shear_range=0.2,\n",
    "                                zoom_range=0.2,\n",
    "                                horizontal_flip=True,\n",
    "                                fill_mode='nearest'\n",
    "                                                )\n",
    "train_data=datagen_train.flow_from_directory('train',target_size=(150,150),batch_size=30,class_mode='binary',shuffle=True)\n",
    "datagen_val=ImageDataGenerator(rescale=1./255,)\n",
    "val_data=datagen_val.flow_from_directory('validate',target_size=(150,150),batch_size=30,class_mode='binary',shuffle=True)\n",
    "datagen_test=ImageDataGenerator(horizontal_flip=True)\n",
    "test_data=datagen_test.flow_from_directory('test1',target_size=(150,150),class_mode='binary',shuffle=True)\n"
   ]
  },
  {
   "cell_type": "code",
   "execution_count": 19,
   "metadata": {},
   "outputs": [],
   "source": [
    "model=Sequential([\n",
    "    Conv2D(16,(3,3),activation='relu',input_shape=(150,150,3)),\n",
    "    MaxPooling2D(2,2),\n",
    "    Dropout(0.2),\n",
    "    Conv2D(32,(3,3),activation='relu'),\n",
    "    MaxPooling2D(2,2),\n",
    "    Dropout(0.2),\n",
    "    Conv2D(64,(3,3),activation='relu'),\n",
    "    MaxPooling2D(2,2),\n",
    "    Dropout(0.2),\n",
    "    Conv2D(128,(3,3),activation='relu'),\n",
    "    MaxPooling2D(2,2),\n",
    "    Dropout(0.2),\n",
    "    Flatten(),\n",
    "    Dense(128,activation='relu'),\n",
    "    Dropout(0.2),\n",
    "    Dense(512,activation='relu'),\n",
    "    Dropout(0.2),\n",
    "    Dense(1,activation='sigmoid')\n",
    "])\n"
   ]
  },
  {
   "cell_type": "code",
   "execution_count": 20,
   "metadata": {},
   "outputs": [
    {
     "name": "stdout",
     "output_type": "stream",
     "text": [
      "Model: \"sequential_3\"\n",
      "_________________________________________________________________\n",
      "Layer (type)                 Output Shape              Param #   \n",
      "=================================================================\n",
      "conv2d_12 (Conv2D)           (None, 148, 148, 16)      448       \n",
      "_________________________________________________________________\n",
      "max_pooling2d_12 (MaxPooling (None, 74, 74, 16)        0         \n",
      "_________________________________________________________________\n",
      "dropout_18 (Dropout)         (None, 74, 74, 16)        0         \n",
      "_________________________________________________________________\n",
      "conv2d_13 (Conv2D)           (None, 72, 72, 32)        4640      \n",
      "_________________________________________________________________\n",
      "max_pooling2d_13 (MaxPooling (None, 36, 36, 32)        0         \n",
      "_________________________________________________________________\n",
      "dropout_19 (Dropout)         (None, 36, 36, 32)        0         \n",
      "_________________________________________________________________\n",
      "conv2d_14 (Conv2D)           (None, 34, 34, 64)        18496     \n",
      "_________________________________________________________________\n",
      "max_pooling2d_14 (MaxPooling (None, 17, 17, 64)        0         \n",
      "_________________________________________________________________\n",
      "dropout_20 (Dropout)         (None, 17, 17, 64)        0         \n",
      "_________________________________________________________________\n",
      "conv2d_15 (Conv2D)           (None, 15, 15, 128)       73856     \n",
      "_________________________________________________________________\n",
      "max_pooling2d_15 (MaxPooling (None, 7, 7, 128)         0         \n",
      "_________________________________________________________________\n",
      "dropout_21 (Dropout)         (None, 7, 7, 128)         0         \n",
      "_________________________________________________________________\n",
      "flatten_3 (Flatten)          (None, 6272)              0         \n",
      "_________________________________________________________________\n",
      "dense_9 (Dense)              (None, 128)               802944    \n",
      "_________________________________________________________________\n",
      "dropout_22 (Dropout)         (None, 128)               0         \n",
      "_________________________________________________________________\n",
      "dense_10 (Dense)             (None, 512)               66048     \n",
      "_________________________________________________________________\n",
      "dropout_23 (Dropout)         (None, 512)               0         \n",
      "_________________________________________________________________\n",
      "dense_11 (Dense)             (None, 1)                 513       \n",
      "=================================================================\n",
      "Total params: 966,945\n",
      "Trainable params: 966,945\n",
      "Non-trainable params: 0\n",
      "_________________________________________________________________\n"
     ]
    }
   ],
   "source": [
    "model.summary()"
   ]
  },
  {
   "cell_type": "code",
   "execution_count": 21,
   "metadata": {},
   "outputs": [],
   "source": [
    "model.compile(optimizer='adam',loss='binary_crossentropy',metrics=['acc'])"
   ]
  },
  {
   "cell_type": "code",
   "execution_count": 22,
   "metadata": {
    "scrolled": true
   },
   "outputs": [
    {
     "name": "stdout",
     "output_type": "stream",
     "text": [
      "Epoch 1/20\n",
      "734/734 [==============================] - 1643s 2s/step - loss: 0.6815 - acc: 0.5413 - val_loss: 0.6310 - val_acc: 0.6346\n",
      "Epoch 2/20\n",
      "734/734 [==============================] - 1094s 1s/step - loss: 0.6252 - acc: 0.6479 - val_loss: 0.5603 - val_acc: 0.7135\n",
      "Epoch 3/20\n",
      "734/734 [==============================] - 1331s 2s/step - loss: 0.5938 - acc: 0.6792 - val_loss: 0.5314 - val_acc: 0.7328\n",
      "Epoch 4/20\n",
      "734/734 [==============================] - 1391s 2s/step - loss: 0.5726 - acc: 0.7012 - val_loss: 0.5465 - val_acc: 0.7045\n",
      "Epoch 5/20\n",
      "734/734 [==============================] - 1217s 2s/step - loss: 0.5587 - acc: 0.7092 - val_loss: 0.5060 - val_acc: 0.7412\n",
      "Epoch 6/20\n",
      "734/734 [==============================] - 1114s 2s/step - loss: 0.5421 - acc: 0.7247 - val_loss: 0.4676 - val_acc: 0.7801\n",
      "Epoch 7/20\n",
      "734/734 [==============================] - 1492s 2s/step - loss: 0.5296 - acc: 0.7358 - val_loss: 0.4405 - val_acc: 0.8088\n",
      "Epoch 8/20\n",
      "734/734 [==============================] - 1488s 2s/step - loss: 0.5197 - acc: 0.7424 - val_loss: 0.4665 - val_acc: 0.7748\n",
      "Epoch 9/20\n",
      "734/734 [==============================] - 12864s 18s/step - loss: 0.5146 - acc: 0.7471 - val_loss: 0.4385 - val_acc: 0.8061\n",
      "Epoch 10/20\n",
      "734/734 [==============================] - 8823s 12s/step - loss: 0.5014 - acc: 0.7548 - val_loss: 0.4134 - val_acc: 0.8191\n",
      "Epoch 11/20\n",
      "734/734 [==============================] - 1283s 2s/step - loss: 0.4899 - acc: 0.7640 - val_loss: 0.3877 - val_acc: 0.8284\n",
      "Epoch 12/20\n",
      "734/734 [==============================] - 1386s 2s/step - loss: 0.4803 - acc: 0.7709 - val_loss: 0.4588 - val_acc: 0.7845\n",
      "Epoch 13/20\n",
      "734/734 [==============================] - 801s 1s/step - loss: 0.4727 - acc: 0.7729 - val_loss: 0.3649 - val_acc: 0.8418\n",
      "Epoch 14/20\n",
      "734/734 [==============================] - 1689s 2s/step - loss: 0.4601 - acc: 0.7828 - val_loss: 0.4008 - val_acc: 0.8155\n",
      "Epoch 15/20\n",
      "734/734 [==============================] - 1073s 1s/step - loss: 0.4541 - acc: 0.7864 - val_loss: 0.3671 - val_acc: 0.8401\n",
      "Epoch 16/20\n",
      "734/734 [==============================] - 1551s 2s/step - loss: 0.4442 - acc: 0.7915 - val_loss: 0.3984 - val_acc: 0.8271\n",
      "Epoch 17/20\n",
      "734/734 [==============================] - 1584s 2s/step - loss: 0.4380 - acc: 0.7961 - val_loss: 0.3516 - val_acc: 0.8561\n",
      "Epoch 18/20\n",
      "734/734 [==============================] - 1499s 2s/step - loss: 0.4297 - acc: 0.8025 - val_loss: 0.3447 - val_acc: 0.8624\n",
      "Epoch 19/20\n",
      "734/734 [==============================] - 1534s 2s/step - loss: 0.4256 - acc: 0.8064 - val_loss: 0.3224 - val_acc: 0.8774\n",
      "Epoch 20/20\n",
      "734/734 [==============================] - 1438s 2s/step - loss: 0.4160 - acc: 0.8066 - val_loss: 0.3748 - val_acc: 0.8444\n"
     ]
    }
   ],
   "source": [
    "history=model.fit(\n",
    "          train_data,\n",
    "          validation_data=val_data,\n",
    "          epochs=20,\n",
    "          verbose=1)"
   ]
  },
  {
   "cell_type": "code",
   "execution_count": 23,
   "metadata": {},
   "outputs": [],
   "source": [
    "#https://www.kaggle.com/c/dogs-vs-cats/data DataSet\n",
    "#https://www.youtube.com/watch?v=ujTCoH21GlA&list=PLzMcBGfZo4-mP7qA9cagf68V06sko5otr anaconda ENV\n",
    "#https://www.youtube.com/watch?v=6kXLUvsnhuI Jupyter ENV"
   ]
  },
  {
   "cell_type": "code",
   "execution_count": 24,
   "metadata": {},
   "outputs": [
    {
     "data": {
      "image/png": "[encoded data removed]",
      "text/plain": [
       "<Figure size 432x288 with 1 Axes>"
      ]
     },
     "metadata": {
      "needs_background": "light"
     },
     "output_type": "display_data"
    }
   ],
   "source": [
    "plt.plot(range(20),history.history['acc'],label=\"Training\")\n",
    "plt.plot(range(20),history.history['val_acc'],label=\"Validation\")\n",
    "plt.ylim([0.7,1.0])\n",
    "plt.legend()\n",
    "plt.show()\n"
   ]
  },
  {
   "cell_type": "code",
   "execution_count": 25,
   "metadata": {},
   "outputs": [
    {
     "data": {
      "image/png": "[encoded data removed]",
      "text/plain": [
       "<Figure size 432x288 with 1 Axes>"
      ]
     },
     "metadata": {
      "needs_background": "light"
     },
     "output_type": "display_data"
    }
   ],
   "source": [
    "plt.plot(range(20),history.history['loss'],label=\"Training\")\n",
    "plt.plot(range(20),history.history['val_loss'],label=\"Validation\")\n",
    "plt.ylim([0.7,1.0])\n",
    "plt.legend()\n",
    "plt.show()\n"
   ]
  },
  {
   "cell_type": "code",
   "execution_count": null,
   "metadata": {},
   "outputs": [],
   "source": []
  }
 ],
 "metadata": {
  "kernelspec": {
   "display_name": "tensor",
   "language": "python",
   "name": "tensor"
  },
  "language_info": {
   "codemirror_mode": {
    "name": "ipython",
    "version": 3
   },
   "file_extension": ".py",
   "mimetype": "text/x-python",
   "name": "python",
   "nbconvert_exporter": "python",
   "pygments_lexer": "ipython3",
   "version": "3.6.10"
  }
 },
 "nbformat": 4,
 "nbformat_minor": 4
}
